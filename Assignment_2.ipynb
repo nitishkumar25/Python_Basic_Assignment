{
 "cells": [
  {
   "cell_type": "markdown",
   "metadata": {},
   "source": [
    " Sol 1)   Two values of boolean data type are True and False.A boolean data type is declared with the bool keyword and can    only take the values true or false . When the value is returned, true = 1 and false = 0"
   ]
  },
  {
   "cell_type": "markdown",
   "metadata": {},
   "source": [
    "Sol 2)  The three basic boolean operators are: AND, OR, and NOT."
   ]
  },
  {
   "cell_type": "markdown",
   "metadata": {},
   "source": [
    "Sol 3) Two input AND gate\n",
    "\n",
    "    A   B\tO\n",
    "\n",
    "    0\t0\t0\n",
    "    0\t1\t0\n",
    "    1\t0\t0\n",
    "    1\t1\t1\n",
    "\n",
    "    Two input OR gate\n",
    "    A\tB\tO\n",
    "\n",
    "    0\t0\t0\n",
    "    0\t1\t1\n",
    "    1\t0\t1\n",
    "    1\t1\t1\n",
    "\n",
    "    NOT gate\n",
    "    A\tO\n",
    "\n",
    "    0\t1\n",
    "    0\t0"
   ]
  },
  {
   "cell_type": "markdown",
   "metadata": {},
   "source": [
    "Sol 4)"
   ]
  },
  {
   "cell_type": "markdown",
   "metadata": {},
   "source": [
    "(5 > 4) and (3 == 5)  : False"
   ]
  },
  {
   "cell_type": "markdown",
   "metadata": {},
   "source": [
    "not (5 > 4)  : False"
   ]
  },
  {
   "cell_type": "markdown",
   "metadata": {},
   "source": [
    "(5 > 4) or (3 == 5) : True"
   ]
  },
  {
   "cell_type": "markdown",
   "metadata": {},
   "source": [
    "not ((5 > 4) or (3 == 5)) : False"
   ]
  },
  {
   "cell_type": "markdown",
   "metadata": {},
   "source": [
    "(True and True) and (True == False)  : False"
   ]
  },
  {
   "cell_type": "markdown",
   "metadata": {},
   "source": [
    "(not False) or (not True) : True"
   ]
  },
  {
   "cell_type": "markdown",
   "metadata": {},
   "source": [
    "     "
   ]
  },
  {
   "cell_type": "markdown",
   "metadata": {},
   "source": [
    "Sol 5)  We have six comparison operators - less than, greater than, less than or equal to, greater than or equal to, equal to, and not equal to."
   ]
  },
  {
   "cell_type": "markdown",
   "metadata": {},
   "source": [
    "Sol 6)"
   ]
  },
  {
   "cell_type": "markdown",
   "metadata": {},
   "source": [
    "Equal to operator(=):\n",
    "\n",
    "    It is an assignment operator.\n",
    "    It is used for assigning the value to a variable.\t \n",
    "    eg: a=5        \n",
    "\n",
    "(==) operator:\n",
    "\n",
    "    It is a relational or comparison operator.\n",
    "    It is used for comparing two values.\n",
    "    It returns 1 if both the values are equal otherwise returns 0.\n",
    "    eg : a==4  .It will return False as a is having a value 5"
   ]
  },
  {
   "cell_type": "markdown",
   "metadata": {},
   "source": [
    "Sol 7)"
   ]
  },
  {
   "cell_type": "markdown",
   "metadata": {},
   "source": [
    "1st block\n",
    "\n",
    "    spam = 0  \n",
    "    if spam == 10:\n",
    "        print('eggs')"
   ]
  },
  {
   "cell_type": "markdown",
   "metadata": {},
   "source": [
    "2nd block\n",
    "\n",
    "    if spam > 5:\n",
    "        print('bacon')"
   ]
  },
  {
   "cell_type": "markdown",
   "metadata": {},
   "source": [
    "3rd block\n",
    "\n",
    "    else:\n",
    "        print('ham')\n",
    "        print('spam')\n",
    "        print('spam')"
   ]
  },
  {
   "cell_type": "markdown",
   "metadata": {},
   "source": [
    "Sol 8)"
   ]
  },
  {
   "cell_type": "code",
   "execution_count": 29,
   "metadata": {},
   "outputs": [
    {
     "name": "stdout",
     "output_type": "stream",
     "text": [
      "Hello\n"
     ]
    }
   ],
   "source": [
    "spam=1\n",
    "if spam == 1 :\n",
    "    print('Hello')\n",
    "elif spam == 2 :\n",
    "    print('Howdy')\n",
    "else:\n",
    "    print('Greetings!')"
   ]
  }
 ],
 "metadata": {
  "kernelspec": {
   "display_name": "Python 3",
   "language": "python",
   "name": "python3"
  },
  "language_info": {
   "codemirror_mode": {
    "name": "ipython",
    "version": 3
   },
   "file_extension": ".py",
   "mimetype": "text/x-python",
   "name": "python",
   "nbconvert_exporter": "python",
   "pygments_lexer": "ipython3",
   "version": "3.8.5"
  }
 },
 "nbformat": 4,
 "nbformat_minor": 4
}
